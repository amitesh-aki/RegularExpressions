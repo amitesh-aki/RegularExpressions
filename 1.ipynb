{
 "cells": [
  {
   "cell_type": "markdown",
   "metadata": {},
   "source": [
    "### Given a string, the task is to check if that string contains any g followed by one or more e’s in it, otherwise, print No match.\n",
    "\n",
    "#### Examples :\n",
    "```\n",
    "Input : geeks for geeks\n",
    "Output : geeks \n",
    "         geeks\n",
    "\n",
    "Input : graphic era\n",
    "Output : No match \n",
    "```"
   ]
  },
  {
   "cell_type": "code",
   "execution_count": null,
   "metadata": {},
   "outputs": [],
   "source": []
  }
 ],
 "metadata": {
  "kernelspec": {
   "display_name": "Python 3",
   "language": "python",
   "name": "python3"
  },
  "language_info": {
   "codemirror_mode": {
    "name": "ipython",
    "version": 3
   },
   "file_extension": ".py",
   "mimetype": "text/x-python",
   "name": "python",
   "nbconvert_exporter": "python",
   "pygments_lexer": "ipython3",
   "version": "3.6.5"
  }
 },
 "nbformat": 4,
 "nbformat_minor": 2
}
